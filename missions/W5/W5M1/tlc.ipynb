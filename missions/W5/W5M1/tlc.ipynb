{
 "cells": [
  {
   "cell_type": "code",
   "execution_count": 83,
   "metadata": {},
   "outputs": [],
   "source": [
    "from pyspark.sql import SparkSession\n",
    "from pyspark.sql.functions import col, sum, avg, count, to_date\n",
    "from pyspark.sql.utils import AnalysisException\n",
    "import requests\n",
    "import os\n",
    "import pandas as pd"
   ]
  },
  {
   "cell_type": "code",
   "execution_count": 84,
   "metadata": {},
   "outputs": [],
   "source": [
    "# Spark session 초기화\n",
    "spark = (\n",
    "    SparkSession.builder.appName(\"TLC DataSet Analyze\")\n",
    "    .master(\"local[*]\")\n",
    "    .config(\"spark.driver.host\", \"localhost\")\n",
    "    .config(\"spark.driver.port\", \"7077\")\n",
    "    .config(\"spark.ui.port\", \"4050\")\n",
    "    .config(\"spark.driver.memory\", \"15g\")\n",
    "    .config(\"spark.executor.memory\", \"15g\")\n",
    "    .getOrCreate()\n",
    ")"
   ]
  },
  {
   "cell_type": "code",
   "execution_count": 85,
   "metadata": {},
   "outputs": [],
   "source": [
    "# # 저장할 폴더 경로\n",
    "# save_folder = \"/Users/admin/Desktop/docker/W5M1/parquet_files\"\n",
    "# os.makedirs(save_folder, exist_ok=True)  # 폴더가 없으면 생성\n",
    "\n",
    "# # 데이터 종류 및 기간 설정\n",
    "# categories = [\n",
    "#     \"yellow_tripdata\"\n",
    "# ]  # , \"green_tripdata\", \"fhv_tripdata\", \"fhvhv_tripdata\"]\n",
    "\n",
    "# # 날짜 범위 생성\n",
    "# months = (\n",
    "#     pd.date_range(start=\"2022-05-01\", end=\"2022-08-01\", freq=\"MS\")\n",
    "#     .strftime(\"%Y-%m\")\n",
    "#     .tolist()\n",
    "# )\n",
    "\n",
    "# # URL을 생성하여 데이터를 다운로드 및 저장\n",
    "# base_url = \"https://d37ci6vzurychx.cloudfront.net/trip-data/\"\n",
    "# for category in categories:\n",
    "#     for month in months:\n",
    "#         file_name = f\"{category}_{month}.parquet\"\n",
    "#         url = f\"{base_url}{file_name}\"\n",
    "#         file_path = os.path.join(save_folder, file_name)\n",
    "\n",
    "#         # 데이터 다운로드\n",
    "#         response = requests.get(url)\n",
    "\n",
    "#         # 응답 상태 코드 확인\n",
    "#         if response.status_code == 200:\n",
    "#             # 파일을 로컬 폴더에 저장\n",
    "#             with open(file_path, \"wb\") as file:\n",
    "#                 file.write(response.content)\n",
    "#         else:\n",
    "#             print(f\"Failed to retrieve the data from {url}\")"
   ]
  },
  {
   "cell_type": "code",
   "execution_count": 86,
   "metadata": {},
   "outputs": [],
   "source": [
    "# 데이터 정제\n",
    "def data_purification(file_name, date):\n",
    "\n",
    "    # parquet file 읽기\n",
    "    file_path = f\"/Users/admin/Desktop/docker/W5M1/parquet_files/{file_name}_tripdata_{date}.parquet\"  # 로컬\n",
    "    print(f\"Attempting to read from: {file_path}\")\n",
    "    try:\n",
    "        # 파일 읽기\n",
    "        read_df = spark.read.parquet(file_path)\n",
    "    except AnalysisException:\n",
    "        print(f\"File not found: {file_path}\")\n",
    "        return None  # 파일이 없으면 None 반환\n",
    "\n",
    "    # date를 이용해 해당 월의 첫 날과 마지막 날을 계산\n",
    "    start_date = f\"{date}-01\"\n",
    "    end_date = f\"{date}-{(pd.Timestamp(start_date) + pd.offsets.MonthEnd(1)).day}\"\n",
    "\n",
    "    # 이상치, 음수값 제거\n",
    "    read_df = (\n",
    "        read_df.filter(col(\"tpep_dropoff_datetime\") > col(\"tpep_pickup_datetime\"))\n",
    "        .filter(col(\"trip_distance\") > 0)\n",
    "        .filter(col(\"passenger_count\") >= 0)\n",
    "        .filter(col(\"fare_amount\") >= 0)\n",
    "        .filter(col(\"extra\") >= 0)\n",
    "        .filter(col(\"mta_tax\") >= 0)\n",
    "        .filter(col(\"tip_amount\") >= 0)\n",
    "        .filter(col(\"tolls_amount\") >= 0)\n",
    "        .filter(col(\"improvement_surcharge\") >= 0)\n",
    "        .filter(col(\"total_amount\") >= 0)\n",
    "        .filter(col(\"congestion_surcharge\") >= 0)\n",
    "        .filter(col(\"Airport_fee\") >= 0)\n",
    "        .filter(\n",
    "            (col(\"tpep_pickup_datetime\") >= start_date)\n",
    "            & (col(\"tpep_pickup_datetime\") <= end_date)\n",
    "            & (col(\"tpep_dropoff_datetime\") >= start_date)\n",
    "            & (col(\"tpep_dropoff_datetime\") <= end_date)\n",
    "        )\n",
    "    )\n",
    "\n",
    "    # 결측치 있는 행 제거\n",
    "    read_df = read_df.dropna()\n",
    "\n",
    "    read_df = read_df.withColumn(\n",
    "        \"total_fee\",\n",
    "        (col(\"total_amount\") + col(\"congestion_surcharge\") + col(\"airport_fee\")),\n",
    "    )\n",
    "\n",
    "    read_df = read_df.select(\"tpep_pickup_datetime\", \"trip_distance\", \"total_fee\")\n",
    "    return read_df"
   ]
  },
  {
   "cell_type": "markdown",
   "metadata": {},
   "source": [
    "# TLC 데이터 읽어오기\n",
    "\n",
    "\n",
    "- job 0 ~ 3 해당\n",
    "- 분명히 union() 함수가 있는데 지금 job에서는 작동하지 않음\n",
    "- rdd에 대해 이후에 나올 union도 생각해서 union()자체는 다음으로 미룬듯"
   ]
  },
  {
   "cell_type": "code",
   "execution_count": 87,
   "metadata": {},
   "outputs": [
    {
     "name": "stdout",
     "output_type": "stream",
     "text": [
      ">>>>> yellow 2022-05\n",
      "Attempting to read from: /Users/admin/Desktop/docker/W5M1/parquet_files/yellow_tripdata_2022-05.parquet\n",
      ">>>>> yellow 2022-06\n",
      "Attempting to read from: /Users/admin/Desktop/docker/W5M1/parquet_files/yellow_tripdata_2022-06.parquet\n",
      ">>>>> yellow 2022-07\n",
      "Attempting to read from: /Users/admin/Desktop/docker/W5M1/parquet_files/yellow_tripdata_2022-07.parquet\n",
      ">>>>> yellow 2022-08\n",
      "Attempting to read from: /Users/admin/Desktop/docker/W5M1/parquet_files/yellow_tripdata_2022-08.parquet\n"
     ]
    }
   ],
   "source": [
    "# Data 타입, 범위\n",
    "categories = [\"yellow\"]  # , \"green\" , \"fhv\", \"fhvhv\"]\n",
    "\n",
    "# 날짜 범위 생성\n",
    "months = (\n",
    "    pd.date_range(start=\"2022-05-01\", end=\"2022-08-01\", freq=\"MS\")\n",
    "    .strftime(\"%Y-%m\")\n",
    "    .tolist()\n",
    ")\n",
    "\n",
    "# DataFrames 합치기\n",
    "rdd = None\n",
    "for category in categories:\n",
    "    for month in months:\n",
    "        print(\">>>>>\", category, month)\n",
    "        read_df = data_purification(category, month)\n",
    "        if read_df is not None:  # df가 None이 아닐 때만 결합\n",
    "            if rdd is None:\n",
    "                rdd = read_df\n",
    "            else:\n",
    "                rdd = rdd.union(read_df)"
   ]
  },
  {
   "cell_type": "markdown",
   "metadata": {},
   "source": [
    "# 총 여행 수 계산\n",
    "\n",
    "- job 4~5 해당\n",
    "- 여기서 job 5에서 union() 실행 후 새로운 Stage로 넘어감\n",
    "  - union() -> shuffling 일아난 것\n",
    "- count() - Action"
   ]
  },
  {
   "cell_type": "code",
   "execution_count": 88,
   "metadata": {},
   "outputs": [
    {
     "name": "stderr",
     "output_type": "stream",
     "text": [
      "[Stage 4:====================================================>    (37 + 3) / 40]\r"
     ]
    },
    {
     "name": "stdout",
     "output_type": "stream",
     "text": [
      "Total trip count sum: 12356633\n"
     ]
    },
    {
     "name": "stderr",
     "output_type": "stream",
     "text": [
      "                                                                                \r"
     ]
    }
   ],
   "source": [
    "print(f\"Total trip count sum: {rdd.count()}\")"
   ]
  },
  {
   "cell_type": "markdown",
   "metadata": {},
   "source": [
    "# 총 수익 (요금의 합계) 계산\n",
    "\n",
    "- job 6~7 해당\n",
    "- 마찬가지로 job 6가 union(), job 7이 union() 이후에 만들어진 새로운 Stage에서 연산 수행"
   ]
  },
  {
   "cell_type": "code",
   "execution_count": 89,
   "metadata": {},
   "outputs": [
    {
     "name": "stderr",
     "output_type": "stream",
     "text": [
      "[Stage 7:====================================================>    (37 + 3) / 40]\r"
     ]
    },
    {
     "name": "stdout",
     "output_type": "stream",
     "text": [
      "Total fee sum: 297069546.05300593\n"
     ]
    },
    {
     "name": "stderr",
     "output_type": "stream",
     "text": [
      "                                                                                \r"
     ]
    }
   ],
   "source": [
    "# total_fee 컬럼의 총합 계산\n",
    "total_fee_sum = rdd.agg(sum(\"total_fee\").alias(\"total_fee_sum\")).collect()[0][\n",
    "    \"total_fee_sum\"\n",
    "]\n",
    "\n",
    "print(f\"Total fee sum: {total_fee_sum}\")"
   ]
  },
  {
   "cell_type": "markdown",
   "metadata": {},
   "source": [
    "# 평균 여행 거리\n",
    "\n",
    "- job 8~9 해당\n",
    "- 마찬가지로 job 8이 union(), job 9가 union() 이후에 만들어진 새로운 Stage에서 연산 수행"
   ]
  },
  {
   "cell_type": "code",
   "execution_count": 90,
   "metadata": {},
   "outputs": [
    {
     "name": "stderr",
     "output_type": "stream",
     "text": [
      "[Stage 10:======================================================> (39 + 1) / 40]\r"
     ]
    },
    {
     "name": "stdout",
     "output_type": "stream",
     "text": [
      "Average trip distance: 3.68 miles\n"
     ]
    },
    {
     "name": "stderr",
     "output_type": "stream",
     "text": [
      "                                                                                \r"
     ]
    }
   ],
   "source": [
    "# 평균 trip_distance와 trip_duration 계산\n",
    "average_trip_miles = rdd.agg(\n",
    "    avg(\"trip_distance\").alias(\"average_trip_miles\"),\n",
    ").collect()[0][\"average_trip_miles\"]\n",
    "\n",
    "\n",
    "print(f\"Average trip distance: {average_trip_miles:.2f} miles\")"
   ]
  },
  {
   "cell_type": "markdown",
   "metadata": {},
   "source": [
    "### 하루 단위로 변환"
   ]
  },
  {
   "cell_type": "code",
   "execution_count": 91,
   "metadata": {},
   "outputs": [],
   "source": [
    "# tpep_pickup_datetime에서 날짜 부분만 추출\n",
    "groupby_date_rdd = rdd.withColumn(\"date\", to_date(col(\"tpep_pickup_datetime\")))\n",
    "\n",
    "# 날짜별로 그룹화하여 총 수와 총 total_fee를 계산\n",
    "groupby_date_rdd = groupby_date_rdd.groupBy(\"date\").agg(\n",
    "    count(\"date\").alias(\"total_count\"),\n",
    "    sum(\"total_fee\").alias(\"total_fee\")\n",
    ")\n",
    "\n",
    "# 날짜 순으로 정렬\n",
    "groupby_date_rdd = groupby_date_rdd.orderBy(\"date\")"
   ]
  },
  {
   "cell_type": "markdown",
   "metadata": {},
   "source": [
    "# 하루의 여행 수 계산\n",
    "\n",
    "- job 10~13 해당\n",
    "- 위의 union()과 비슷하게 '하루 단위로 변환'과정을 여기서 job으로 만드는듯\n",
    "- job 10: union()로 새로운 Stage 생성\n",
    "- job 11: groupBy로 새로운 Stage 생성\n",
    "- job 12: orderBy()로 새로운 Stage 생성\n",
    "- job 13: print()함"
   ]
  },
  {
   "cell_type": "code",
   "execution_count": 92,
   "metadata": {},
   "outputs": [
    {
     "name": "stderr",
     "output_type": "stream",
     "text": [
      "[Stage 13:==================================================>     (36 + 4) / 40]\r"
     ]
    },
    {
     "name": "stdout",
     "output_type": "stream",
     "text": [
      "Date: 2022-05-01, Total Count: 93332\n",
      "Date: 2022-05-02, Total Count: 89644\n",
      "Date: 2022-05-03, Total Count: 114348\n",
      "Date: 2022-05-04, Total Count: 119171\n",
      "Date: 2022-05-05, Total Count: 125006\n",
      "Date: 2022-05-06, Total Count: 118909\n",
      "Date: 2022-05-07, Total Count: 110531\n",
      "Date: 2022-05-08, Total Count: 97405\n",
      "Date: 2022-05-09, Total Count: 102645\n",
      "Date: 2022-05-10, Total Count: 115402\n",
      "Date: 2022-05-11, Total Count: 121332\n",
      "Date: 2022-05-12, Total Count: 126287\n",
      "Date: 2022-05-13, Total Count: 122530\n",
      "Date: 2022-05-14, Total Count: 118204\n",
      "Date: 2022-05-15, Total Count: 100066\n",
      "Date: 2022-05-16, Total Count: 108367\n",
      "Date: 2022-05-17, Total Count: 117256\n",
      "Date: 2022-05-18, Total Count: 119464\n",
      "Date: 2022-05-19, Total Count: 122227\n",
      "Date: 2022-05-20, Total Count: 117451\n",
      "Date: 2022-05-21, Total Count: 116530\n",
      "Date: 2022-05-22, Total Count: 95210\n",
      "Date: 2022-05-23, Total Count: 105349\n",
      "Date: 2022-05-24, Total Count: 115522\n",
      "Date: 2022-05-25, Total Count: 116369\n",
      "Date: 2022-05-26, Total Count: 115676\n",
      "Date: 2022-05-27, Total Count: 104745\n",
      "Date: 2022-05-28, Total Count: 93731\n",
      "Date: 2022-05-29, Total Count: 86587\n",
      "Date: 2022-05-30, Total Count: 78275\n",
      "Date: 2022-06-01, Total Count: 115762\n",
      "Date: 2022-06-02, Total Count: 118799\n",
      "Date: 2022-06-03, Total Count: 117611\n",
      "Date: 2022-06-04, Total Count: 115949\n",
      "Date: 2022-06-05, Total Count: 96315\n",
      "Date: 2022-06-06, Total Count: 106826\n",
      "Date: 2022-06-07, Total Count: 120897\n",
      "Date: 2022-06-08, Total Count: 122568\n",
      "Date: 2022-06-09, Total Count: 125691\n",
      "Date: 2022-06-10, Total Count: 121225\n",
      "Date: 2022-06-11, Total Count: 114363\n",
      "Date: 2022-06-12, Total Count: 93394\n",
      "Date: 2022-06-13, Total Count: 112380\n",
      "Date: 2022-06-14, Total Count: 118506\n",
      "Date: 2022-06-15, Total Count: 123502\n",
      "Date: 2022-06-16, Total Count: 121823\n",
      "Date: 2022-06-17, Total Count: 117814\n",
      "Date: 2022-06-18, Total Count: 109173\n",
      "Date: 2022-06-19, Total Count: 92500\n",
      "Date: 2022-06-20, Total Count: 95414\n",
      "Date: 2022-06-21, Total Count: 114753\n",
      "Date: 2022-06-22, Total Count: 116256\n",
      "Date: 2022-06-23, Total Count: 122978\n",
      "Date: 2022-06-24, Total Count: 117278\n",
      "Date: 2022-06-25, Total Count: 112538\n",
      "Date: 2022-06-26, Total Count: 86624\n",
      "Date: 2022-06-27, Total Count: 98803\n",
      "Date: 2022-06-28, Total Count: 108398\n",
      "Date: 2022-06-29, Total Count: 110288\n",
      "Date: 2022-07-01, Total Count: 96174\n",
      "Date: 2022-07-02, Total Count: 82619\n",
      "Date: 2022-07-03, Total Count: 71046\n",
      "Date: 2022-07-04, Total Count: 60590\n",
      "Date: 2022-07-05, Total Count: 90130\n",
      "Date: 2022-07-06, Total Count: 99252\n",
      "Date: 2022-07-07, Total Count: 103369\n",
      "Date: 2022-07-08, Total Count: 99195\n",
      "Date: 2022-07-09, Total Count: 90726\n",
      "Date: 2022-07-10, Total Count: 80083\n",
      "Date: 2022-07-11, Total Count: 93179\n",
      "Date: 2022-07-12, Total Count: 107909\n",
      "Date: 2022-07-13, Total Count: 112792\n",
      "Date: 2022-07-14, Total Count: 112877\n",
      "Date: 2022-07-15, Total Count: 105816\n",
      "Date: 2022-07-16, Total Count: 101323\n",
      "Date: 2022-07-17, Total Count: 86372\n",
      "Date: 2022-07-18, Total Count: 92389\n",
      "Date: 2022-07-19, Total Count: 109378\n",
      "Date: 2022-07-20, Total Count: 112778\n",
      "Date: 2022-07-21, Total Count: 110585\n",
      "Date: 2022-07-22, Total Count: 104158\n",
      "Date: 2022-07-23, Total Count: 98449\n",
      "Date: 2022-07-24, Total Count: 86263\n",
      "Date: 2022-07-25, Total Count: 90890\n",
      "Date: 2022-07-26, Total Count: 105286\n",
      "Date: 2022-07-27, Total Count: 109986\n",
      "Date: 2022-07-28, Total Count: 111031\n",
      "Date: 2022-07-29, Total Count: 104737\n",
      "Date: 2022-07-30, Total Count: 95794\n",
      "Date: 2022-08-01, Total Count: 87774\n",
      "Date: 2022-08-02, Total Count: 103391\n",
      "Date: 2022-08-03, Total Count: 105599\n",
      "Date: 2022-08-04, Total Count: 107488\n",
      "Date: 2022-08-05, Total Count: 102717\n",
      "Date: 2022-08-06, Total Count: 100205\n",
      "Date: 2022-08-07, Total Count: 82595\n",
      "Date: 2022-08-08, Total Count: 93146\n",
      "Date: 2022-08-09, Total Count: 106919\n",
      "Date: 2022-08-10, Total Count: 80721\n",
      "Date: 2022-08-11, Total Count: 108679\n",
      "Date: 2022-08-12, Total Count: 102584\n",
      "Date: 2022-08-13, Total Count: 95570\n",
      "Date: 2022-08-14, Total Count: 81107\n",
      "Date: 2022-08-15, Total Count: 88350\n",
      "Date: 2022-08-16, Total Count: 99737\n",
      "Date: 2022-08-17, Total Count: 102284\n",
      "Date: 2022-08-18, Total Count: 104246\n",
      "Date: 2022-08-19, Total Count: 100018\n",
      "Date: 2022-08-20, Total Count: 95600\n",
      "Date: 2022-08-21, Total Count: 81761\n",
      "Date: 2022-08-22, Total Count: 87320\n",
      "Date: 2022-08-23, Total Count: 100711\n",
      "Date: 2022-08-24, Total Count: 103442\n",
      "Date: 2022-08-25, Total Count: 104500\n",
      "Date: 2022-08-26, Total Count: 100912\n",
      "Date: 2022-08-27, Total Count: 98315\n",
      "Date: 2022-08-28, Total Count: 83119\n",
      "Date: 2022-08-29, Total Count: 87339\n",
      "Date: 2022-08-30, Total Count: 99309\n"
     ]
    },
    {
     "name": "stderr",
     "output_type": "stream",
     "text": [
      "                                                                                \r"
     ]
    }
   ],
   "source": [
    "for date, total_count, total_fee in groupby_date_rdd.collect():\n",
    "    print(f\"Date: {date}, Total Count: {total_count}\")"
   ]
  },
  {
   "cell_type": "markdown",
   "metadata": {},
   "source": [
    "# 하루의 통 수익 계산\n",
    "\n",
    "- job 14 해당\n",
    "- job 14: print()함"
   ]
  },
  {
   "cell_type": "code",
   "execution_count": 93,
   "metadata": {},
   "outputs": [
    {
     "name": "stdout",
     "output_type": "stream",
     "text": [
      "Date: 2022-05-01, Total Fee: 2348678.640000481\n",
      "Date: 2022-05-02, Total Fee: 2167006.4300011224\n",
      "Date: 2022-05-03, Total Fee: 2695469.619999525\n",
      "Date: 2022-05-04, Total Fee: 2779941.249999259\n",
      "Date: 2022-05-05, Total Fee: 2976566.919998659\n",
      "Date: 2022-05-06, Total Fee: 2820044.0299989334\n",
      "Date: 2022-05-07, Total Fee: 2444765.4600002267\n",
      "Date: 2022-05-08, Total Fee: 2348931.5500006084\n",
      "Date: 2022-05-09, Total Fee: 2487003.3600002327\n",
      "Date: 2022-05-10, Total Fee: 2725806.8099994455\n",
      "Date: 2022-05-11, Total Fee: 2860515.179999027\n",
      "Date: 2022-05-12, Total Fee: 3034773.3099984694\n",
      "Date: 2022-05-13, Total Fee: 2978493.229998475\n",
      "Date: 2022-05-14, Total Fee: 2764630.109999187\n",
      "Date: 2022-05-15, Total Fee: 2526912.670000028\n",
      "Date: 2022-05-16, Total Fee: 2651111.2099997187\n",
      "Date: 2022-05-17, Total Fee: 2963292.359998764\n",
      "Date: 2022-05-18, Total Fee: 2990094.2199986842\n",
      "Date: 2022-05-19, Total Fee: 3075315.3999983696\n",
      "Date: 2022-05-20, Total Fee: 2928241.229998664\n",
      "Date: 2022-05-21, Total Fee: 2818106.8999989484\n",
      "Date: 2022-05-22, Total Fee: 2441686.3600002225\n",
      "Date: 2022-05-23, Total Fee: 2635075.229999704\n",
      "Date: 2022-05-24, Total Fee: 2790546.909999248\n",
      "Date: 2022-05-25, Total Fee: 2850364.919999045\n",
      "Date: 2022-05-26, Total Fee: 2835913.819999071\n",
      "Date: 2022-05-27, Total Fee: 2536587.629999987\n",
      "Date: 2022-05-28, Total Fee: 2195220.680001059\n",
      "Date: 2022-05-29, Total Fee: 2107239.3800012637\n",
      "Date: 2022-05-30, Total Fee: 1983713.8000011374\n",
      "Date: 2022-06-01, Total Fee: 2737001.289999264\n",
      "Date: 2022-06-02, Total Fee: 2861548.569999073\n",
      "Date: 2022-06-03, Total Fee: 2837212.239998933\n",
      "Date: 2022-06-04, Total Fee: 2657265.4999995143\n",
      "Date: 2022-06-05, Total Fee: 2441539.920000285\n",
      "Date: 2022-06-06, Total Fee: 2604811.369999861\n",
      "Date: 2022-06-07, Total Fee: 2874698.989998959\n",
      "Date: 2022-06-08, Total Fee: 2948657.809998717\n",
      "Date: 2022-06-09, Total Fee: 3085436.989998373\n",
      "Date: 2022-06-10, Total Fee: 2975132.479998467\n",
      "Date: 2022-06-11, Total Fee: 3087346.3099978403\n",
      "Date: 2022-06-12, Total Fee: 2382158.070000417\n",
      "Date: 2022-06-13, Total Fee: 2739170.219999486\n",
      "Date: 2022-06-14, Total Fee: 2865751.8399989493\n",
      "Date: 2022-06-15, Total Fee: 3018057.559998572\n",
      "Date: 2022-06-16, Total Fee: 2938180.7099988256\n",
      "Date: 2022-06-17, Total Fee: 2909384.4099986884\n",
      "Date: 2022-06-18, Total Fee: 2556193.469999872\n",
      "Date: 2022-06-19, Total Fee: 2273725.270000769\n",
      "Date: 2022-06-20, Total Fee: 2376811.140000527\n",
      "Date: 2022-06-21, Total Fee: 2759917.1099993633\n",
      "Date: 2022-06-22, Total Fee: 2788464.8299991474\n",
      "Date: 2022-06-23, Total Fee: 3022178.069998597\n",
      "Date: 2022-06-24, Total Fee: 2877807.5399988466\n",
      "Date: 2022-06-25, Total Fee: 2640221.5199995795\n",
      "Date: 2022-06-26, Total Fee: 2232348.7200008146\n",
      "Date: 2022-06-27, Total Fee: 2428089.130000431\n",
      "Date: 2022-06-28, Total Fee: 2584336.999999957\n",
      "Date: 2022-06-29, Total Fee: 2597763.3399998285\n",
      "Date: 2022-07-01, Total Fee: 2290467.94000082\n",
      "Date: 2022-07-02, Total Fee: 1889235.4700012465\n",
      "Date: 2022-07-03, Total Fee: 1682062.0800010117\n",
      "Date: 2022-07-04, Total Fee: 1516037.7300007406\n",
      "Date: 2022-07-05, Total Fee: 2143928.1900012605\n",
      "Date: 2022-07-06, Total Fee: 2284351.830000832\n",
      "Date: 2022-07-07, Total Fee: 2393346.930000466\n",
      "Date: 2022-07-08, Total Fee: 2325404.8500006604\n",
      "Date: 2022-07-09, Total Fee: 2074798.1600013413\n",
      "Date: 2022-07-10, Total Fee: 1988391.0000011283\n",
      "Date: 2022-07-11, Total Fee: 2250161.560000921\n",
      "Date: 2022-07-12, Total Fee: 2529419.5400001267\n",
      "Date: 2022-07-13, Total Fee: 2668825.139999646\n",
      "Date: 2022-07-14, Total Fee: 2689576.2399996133\n",
      "Date: 2022-07-15, Total Fee: 2538843.6999999555\n",
      "Date: 2022-07-16, Total Fee: 2356463.1000005403\n",
      "Date: 2022-07-17, Total Fee: 2154248.640001109\n",
      "Date: 2022-07-18, Total Fee: 2229590.53000096\n",
      "Date: 2022-07-19, Total Fee: 2586553.0199999255\n",
      "Date: 2022-07-20, Total Fee: 2659633.6499997186\n",
      "Date: 2022-07-21, Total Fee: 2641258.469999698\n",
      "Date: 2022-07-22, Total Fee: 2452163.0000003967\n",
      "Date: 2022-07-23, Total Fee: 2228835.040000993\n",
      "Date: 2022-07-24, Total Fee: 2086493.4400013043\n",
      "Date: 2022-07-25, Total Fee: 2166016.7200011397\n",
      "Date: 2022-07-26, Total Fee: 2494790.0100001767\n",
      "Date: 2022-07-27, Total Fee: 2576370.479999929\n",
      "Date: 2022-07-28, Total Fee: 2617164.5599997416\n",
      "Date: 2022-07-29, Total Fee: 2512869.5699999854\n",
      "Date: 2022-07-30, Total Fee: 2195992.720001002\n",
      "Date: 2022-08-01, Total Fee: 2128620.8000012236\n",
      "Date: 2022-08-02, Total Fee: 2378626.3800004898\n",
      "Date: 2022-08-03, Total Fee: 2432551.980000306\n",
      "Date: 2022-08-04, Total Fee: 2525490.919999967\n",
      "Date: 2022-08-05, Total Fee: 2443456.4200002966\n",
      "Date: 2022-08-06, Total Fee: 2295902.410000784\n",
      "Date: 2022-08-07, Total Fee: 2022478.7300012216\n",
      "Date: 2022-08-08, Total Fee: 2216371.660001056\n",
      "Date: 2022-08-09, Total Fee: 2455506.230000347\n",
      "Date: 2022-08-10, Total Fee: 1905734.4100010702\n",
      "Date: 2022-08-11, Total Fee: 2585906.5599998767\n",
      "Date: 2022-08-12, Total Fee: 2459285.430000204\n",
      "Date: 2022-08-13, Total Fee: 2236195.930000912\n",
      "Date: 2022-08-14, Total Fee: 2062753.220001173\n",
      "Date: 2022-08-15, Total Fee: 2148915.50000118\n",
      "Date: 2022-08-16, Total Fee: 2335923.380000662\n",
      "Date: 2022-08-17, Total Fee: 2411470.2800003556\n",
      "Date: 2022-08-18, Total Fee: 2493753.780000147\n",
      "Date: 2022-08-19, Total Fee: 2416066.160000361\n",
      "Date: 2022-08-20, Total Fee: 2248845.9500009282\n",
      "Date: 2022-08-21, Total Fee: 2049824.940001195\n",
      "Date: 2022-08-22, Total Fee: 2100617.310001351\n",
      "Date: 2022-08-23, Total Fee: 2407967.8200004445\n",
      "Date: 2022-08-24, Total Fee: 2438346.780000295\n",
      "Date: 2022-08-25, Total Fee: 2492259.8500001547\n",
      "Date: 2022-08-26, Total Fee: 2403336.5600004247\n",
      "Date: 2022-08-27, Total Fee: 2292197.7000007774\n",
      "Date: 2022-08-28, Total Fee: 2116991.20000117\n",
      "Date: 2022-08-29, Total Fee: 2150344.0300011868\n",
      "Date: 2022-08-30, Total Fee: 2327250.3900005496\n"
     ]
    }
   ],
   "source": [
    "for date, total_count, total_fee in groupby_date_rdd.collect():\n",
    "    print(f\"Date: {date}, Total Fee: {total_fee}\")"
   ]
  },
  {
   "cell_type": "code",
   "execution_count": 82,
   "metadata": {},
   "outputs": [],
   "source": [
    "# 스파크 세션 정리\n",
    "spark.stop()"
   ]
  },
  {
   "cell_type": "code",
   "execution_count": null,
   "metadata": {},
   "outputs": [],
   "source": []
  }
 ],
 "metadata": {
  "kernelspec": {
   "display_name": "Python 3",
   "language": "python",
   "name": "python3"
  },
  "language_info": {
   "codemirror_mode": {
    "name": "ipython",
    "version": 3
   },
   "file_extension": ".py",
   "mimetype": "text/x-python",
   "name": "python",
   "nbconvert_exporter": "python",
   "pygments_lexer": "ipython3",
   "version": "3.9.6"
  }
 },
 "nbformat": 4,
 "nbformat_minor": 2
}
